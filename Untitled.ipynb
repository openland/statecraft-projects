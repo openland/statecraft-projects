{
 "cells": [
  {
   "cell_type": "code",
   "execution_count": 1,
   "metadata": {
    "collapsed": true
   },
   "outputs": [],
   "source": [
    "import pandas as pd\n",
    "import numpy as np"
   ]
  },
  {
   "cell_type": "code",
   "execution_count": 2,
   "metadata": {},
   "outputs": [],
   "source": [
    "permits = pd.read_csv('Building_Permits.csv', sep=',', parse_dates=['Permit Creation Date'], index_col=['Permit Number'], infer_datetime_format=True)"
   ]
  },
  {
   "cell_type": "markdown",
   "metadata": {},
   "source": [
    "### Print Permit Type count"
   ]
  },
  {
   "cell_type": "code",
   "execution_count": 3,
   "metadata": {},
   "outputs": [
    {
     "name": "stdout",
     "output_type": "stream",
     "text": [
      "8    729669\n",
      "3    253447\n",
      "4     16860\n",
      "2     12252\n",
      "6      6438\n",
      "7      3525\n",
      "1      1973\n",
      "5       743\n",
      "Name: Permit Type, dtype: int64\n"
     ]
    }
   ],
   "source": [
    "print(permits['Permit Type'].value_counts())"
   ]
  },
  {
   "cell_type": "code",
   "execution_count": 4,
   "metadata": {},
   "outputs": [
    {
     "name": "stdout",
     "output_type": "stream",
     "text": [
      "Total: 1973\n",
      "Total Valid: 1928\n",
      "29796801012.0\n"
     ]
    }
   ],
   "source": [
    "nc = permits[permits['Permit Type'] == 1]\n",
    "print(\"Total: {}\".format(nc.shape[0]))\n",
    "nc_valid = nc[nc['Estimated Cost'] > 0]\n",
    "print(\"Total Valid: {}\".format(nc_valid.shape[0]))\n",
    "print(nc_valid['Estimated Cost'].values.sum())"
   ]
  },
  {
   "cell_type": "code",
   "execution_count": 5,
   "metadata": {},
   "outputs": [
    {
     "name": "stdout",
     "output_type": "stream",
     "text": [
      "<class 'numpy.datetime64'>\n"
     ]
    }
   ],
   "source": [
    "print(type(nc_valid['Permit Creation Date'].values[0]))"
   ]
  },
  {
   "cell_type": "code",
   "execution_count": 6,
   "metadata": {},
   "outputs": [
    {
     "name": "stdout",
     "output_type": "stream",
     "text": [
      "Permit Creation Date\n",
      "1977      2\n",
      "1978      4\n",
      "1979     21\n",
      "1980     19\n",
      "1981     83\n",
      "1982     73\n",
      "1983    111\n",
      "1984     75\n",
      "1985    152\n",
      "1986     65\n",
      "1987     47\n",
      "1988     55\n",
      "1989     41\n",
      "1990     50\n",
      "1991     49\n",
      "1992     47\n",
      "1993     22\n",
      "1994     21\n",
      "1995     42\n",
      "1996     25\n",
      "1997     35\n",
      "1998     42\n",
      "1999     43\n",
      "2000     86\n",
      "2001     57\n",
      "2002     37\n",
      "2003     20\n",
      "2004     42\n",
      "2005     52\n",
      "2006     49\n",
      "2007     31\n",
      "2008     17\n",
      "2009     13\n",
      "2010     31\n",
      "2011     29\n",
      "2012     39\n",
      "2013     54\n",
      "2014     62\n",
      "2015     64\n",
      "2016     94\n",
      "2017     27\n",
      "dtype: int64\n"
     ]
    }
   ],
   "source": [
    "print(nc_valid.groupby(nc_valid['Permit Creation Date'].map(lambda x: x.year)).size())"
   ]
  },
  {
   "cell_type": "code",
   "execution_count": 7,
   "metadata": {},
   "outputs": [
    {
     "name": "stdout",
     "output_type": "stream",
     "text": [
      "Permit Creation Date\n",
      "1979      52.0\n",
      "1980    1480.0\n",
      "1981     396.0\n",
      "1982     620.0\n",
      "1983    1614.0\n",
      "1984    2346.0\n",
      "1985    1515.0\n",
      "1986    1717.0\n",
      "1987    1707.0\n",
      "1988     978.0\n",
      "1989     785.0\n",
      "1990     763.0\n",
      "1991    1113.0\n",
      "1992     964.0\n",
      "1993     125.0\n",
      "1994       6.0\n",
      "1995     382.0\n",
      "1996    2139.0\n",
      "1997    3472.0\n",
      "1998    3716.0\n",
      "1999     855.0\n",
      "2000    3036.0\n",
      "2001    4308.0\n",
      "2002    2253.0\n",
      "2003     951.0\n",
      "2004    3621.0\n",
      "2005    6197.0\n",
      "2006    2858.0\n",
      "2007    2664.0\n",
      "2008     385.0\n",
      "2009     614.0\n",
      "2010    2150.0\n",
      "2011    2949.0\n",
      "2012    4225.0\n",
      "2013    4564.0\n",
      "2014    6779.0\n",
      "2015    4711.0\n",
      "2016    7378.0\n",
      "2017    1653.0\n",
      "Name: Proposed Units, dtype: float64\n",
      "Permit Creation Date\n",
      "False    426\n",
      "True     348\n",
      "dtype: int64\n"
     ]
    }
   ],
   "source": [
    "ncu = nc_valid[nc_valid['Proposed Units'] > 0]\n",
    "# print(ncu['Proposed Units'])\n",
    "\n",
    "print(ncu.groupby(ncu['Permit Creation Date'].map(lambda x: x.year))['Proposed Units'].sum())\n",
    "print(ncu.groupby(ncu['Permit Creation Date'].map(lambda x: x.month <= 6)).size())"
   ]
  },
  {
   "cell_type": "code",
   "execution_count": 8,
   "metadata": {},
   "outputs": [
    {
     "name": "stdout",
     "output_type": "stream",
     "text": [
      "apartments              639\n",
      "office                  268\n",
      "warehouse               214\n",
      "retail sales             90\n",
      "prkng garage/public      62\n",
      "prkng garage/private     56\n",
      "tourist hotel/motel      43\n",
      "storage shed             42\n",
      "filling/service stn      23\n",
      "1 family dwelling        18\n",
      "auto repairs             17\n",
      "sewage plant             16\n",
      "school                   16\n",
      "2 family dwelling        15\n",
      "manufacturing            14\n",
      "public assmbly other     14\n",
      "recreation bldg          13\n",
      "parking lot              11\n",
      "club                     11\n",
      "wholesale sales          11\n",
      "food/beverage hndlng     10\n",
      "car wash                 10\n",
      "power plant              10\n",
      "animal sale or care       8\n",
      "misc group residns.       7\n",
      "health studios & gym      6\n",
      "theater                   6\n",
      "phone xchnge/equip        5\n",
      "clinics-medic/dental      5\n",
      "residential hotel         5\n",
      "                       ... \n",
      "antenna                   3\n",
      "church                    3\n",
      "workshop commercial       3\n",
      "artist live/work          3\n",
      "meat/produce marts        3\n",
      "library                   3\n",
      "muni carbarn              2\n",
      "workshop residential      2\n",
      "temple                    2\n",
      "tower                     2\n",
      "laundry/laundromat        2\n",
      "garment shops             2\n",
      "swimming pool             2\n",
      "nursing home lte 6        2\n",
      "nursery(floral)           1\n",
      "fence/retaining wall      1\n",
      "lending institution       1\n",
      "ambulance service         1\n",
      "nursing home non amb      1\n",
      "storage tanks             1\n",
      "convalescent home         1\n",
      "hospital                  1\n",
      "dance hall                1\n",
      "mortuary                  1\n",
      "amusement center          1\n",
      "moving & storage          1\n",
      "vacant lot                1\n",
      "paint store               1\n",
      "jail                      1\n",
      "building materials        1\n",
      "Name: Proposed Use, Length: 68, dtype: int64\n"
     ]
    }
   ],
   "source": [
    "print(nc_valid['Proposed Use'].value_counts())"
   ]
  },
  {
   "cell_type": "code",
   "execution_count": 9,
   "metadata": {},
   "outputs": [
    {
     "name": "stdout",
     "output_type": "stream",
     "text": [
      "complete       918\n",
      "expired        317\n",
      "issued         209\n",
      "cancelled      166\n",
      "filed          156\n",
      "withdrawn      122\n",
      "approved        17\n",
      "filing          10\n",
      "reinstated       7\n",
      "suspend          3\n",
      "plancheck        2\n",
      "disapproved      1\n",
      "Name: Status, dtype: int64\n"
     ]
    }
   ],
   "source": [
    "print(nc_valid['Status'].value_counts())"
   ]
  },
  {
   "cell_type": "code",
   "execution_count": 10,
   "metadata": {},
   "outputs": [
    {
     "ename": "KeyError",
     "evalue": "\"['Permit Number'] not in index\"",
     "output_type": "error",
     "traceback": [
      "\u001b[0;31m---------------------------------------------------------------------------\u001b[0m",
      "\u001b[0;31mKeyError\u001b[0m                                  Traceback (most recent call last)",
      "\u001b[0;32m<ipython-input-10-2cdcc1266d9d>\u001b[0m in \u001b[0;36m<module>\u001b[0;34m()\u001b[0m\n\u001b[1;32m      5\u001b[0m \u001b[0mncf\u001b[0m \u001b[0;34m=\u001b[0m \u001b[0mnc_valid\u001b[0m\u001b[0;34m[\u001b[0m\u001b[0mnc_valid\u001b[0m\u001b[0;34m[\u001b[0m\u001b[0;34m'Permit Creation Date'\u001b[0m\u001b[0;34m]\u001b[0m \u001b[0;34m>=\u001b[0m \u001b[0;34m'01/01/2007'\u001b[0m\u001b[0;34m]\u001b[0m\u001b[0;34m.\u001b[0m\u001b[0msort_values\u001b[0m\u001b[0;34m(\u001b[0m\u001b[0;34m'Proposed Units'\u001b[0m\u001b[0;34m,\u001b[0m \u001b[0mascending\u001b[0m\u001b[0;34m=\u001b[0m\u001b[0;32mFalse\u001b[0m\u001b[0;34m)\u001b[0m\u001b[0;34m\u001b[0m\u001b[0m\n\u001b[1;32m      6\u001b[0m \u001b[0;34m\u001b[0m\u001b[0m\n\u001b[0;32m----> 7\u001b[0;31m \u001b[0mncf\u001b[0m\u001b[0;34m[\u001b[0m\u001b[0mcols\u001b[0m\u001b[0;34m]\u001b[0m\u001b[0;34m.\u001b[0m\u001b[0mhead\u001b[0m\u001b[0;34m(\u001b[0m\u001b[0;36m30\u001b[0m\u001b[0;34m)\u001b[0m\u001b[0;34m\u001b[0m\u001b[0m\n\u001b[0m\u001b[1;32m      8\u001b[0m \u001b[0;34m\u001b[0m\u001b[0m\n",
      "\u001b[0;32m/anaconda/lib/python3.6/site-packages/pandas/core/frame.py\u001b[0m in \u001b[0;36m__getitem__\u001b[0;34m(self, key)\u001b[0m\n\u001b[1;32m   2054\u001b[0m         \u001b[0;32mif\u001b[0m \u001b[0misinstance\u001b[0m\u001b[0;34m(\u001b[0m\u001b[0mkey\u001b[0m\u001b[0;34m,\u001b[0m \u001b[0;34m(\u001b[0m\u001b[0mSeries\u001b[0m\u001b[0;34m,\u001b[0m \u001b[0mnp\u001b[0m\u001b[0;34m.\u001b[0m\u001b[0mndarray\u001b[0m\u001b[0;34m,\u001b[0m \u001b[0mIndex\u001b[0m\u001b[0;34m,\u001b[0m \u001b[0mlist\u001b[0m\u001b[0;34m)\u001b[0m\u001b[0;34m)\u001b[0m\u001b[0;34m:\u001b[0m\u001b[0;34m\u001b[0m\u001b[0m\n\u001b[1;32m   2055\u001b[0m             \u001b[0;31m# either boolean or fancy integer index\u001b[0m\u001b[0;34m\u001b[0m\u001b[0;34m\u001b[0m\u001b[0m\n\u001b[0;32m-> 2056\u001b[0;31m             \u001b[0;32mreturn\u001b[0m \u001b[0mself\u001b[0m\u001b[0;34m.\u001b[0m\u001b[0m_getitem_array\u001b[0m\u001b[0;34m(\u001b[0m\u001b[0mkey\u001b[0m\u001b[0;34m)\u001b[0m\u001b[0;34m\u001b[0m\u001b[0m\n\u001b[0m\u001b[1;32m   2057\u001b[0m         \u001b[0;32melif\u001b[0m \u001b[0misinstance\u001b[0m\u001b[0;34m(\u001b[0m\u001b[0mkey\u001b[0m\u001b[0;34m,\u001b[0m \u001b[0mDataFrame\u001b[0m\u001b[0;34m)\u001b[0m\u001b[0;34m:\u001b[0m\u001b[0;34m\u001b[0m\u001b[0m\n\u001b[1;32m   2058\u001b[0m             \u001b[0;32mreturn\u001b[0m \u001b[0mself\u001b[0m\u001b[0;34m.\u001b[0m\u001b[0m_getitem_frame\u001b[0m\u001b[0;34m(\u001b[0m\u001b[0mkey\u001b[0m\u001b[0;34m)\u001b[0m\u001b[0;34m\u001b[0m\u001b[0m\n",
      "\u001b[0;32m/anaconda/lib/python3.6/site-packages/pandas/core/frame.py\u001b[0m in \u001b[0;36m_getitem_array\u001b[0;34m(self, key)\u001b[0m\n\u001b[1;32m   2098\u001b[0m             \u001b[0;32mreturn\u001b[0m \u001b[0mself\u001b[0m\u001b[0;34m.\u001b[0m\u001b[0mtake\u001b[0m\u001b[0;34m(\u001b[0m\u001b[0mindexer\u001b[0m\u001b[0;34m,\u001b[0m \u001b[0maxis\u001b[0m\u001b[0;34m=\u001b[0m\u001b[0;36m0\u001b[0m\u001b[0;34m,\u001b[0m \u001b[0mconvert\u001b[0m\u001b[0;34m=\u001b[0m\u001b[0;32mFalse\u001b[0m\u001b[0;34m)\u001b[0m\u001b[0;34m\u001b[0m\u001b[0m\n\u001b[1;32m   2099\u001b[0m         \u001b[0;32melse\u001b[0m\u001b[0;34m:\u001b[0m\u001b[0;34m\u001b[0m\u001b[0m\n\u001b[0;32m-> 2100\u001b[0;31m             \u001b[0mindexer\u001b[0m \u001b[0;34m=\u001b[0m \u001b[0mself\u001b[0m\u001b[0;34m.\u001b[0m\u001b[0mloc\u001b[0m\u001b[0;34m.\u001b[0m\u001b[0m_convert_to_indexer\u001b[0m\u001b[0;34m(\u001b[0m\u001b[0mkey\u001b[0m\u001b[0;34m,\u001b[0m \u001b[0maxis\u001b[0m\u001b[0;34m=\u001b[0m\u001b[0;36m1\u001b[0m\u001b[0;34m)\u001b[0m\u001b[0;34m\u001b[0m\u001b[0m\n\u001b[0m\u001b[1;32m   2101\u001b[0m             \u001b[0;32mreturn\u001b[0m \u001b[0mself\u001b[0m\u001b[0;34m.\u001b[0m\u001b[0mtake\u001b[0m\u001b[0;34m(\u001b[0m\u001b[0mindexer\u001b[0m\u001b[0;34m,\u001b[0m \u001b[0maxis\u001b[0m\u001b[0;34m=\u001b[0m\u001b[0;36m1\u001b[0m\u001b[0;34m,\u001b[0m \u001b[0mconvert\u001b[0m\u001b[0;34m=\u001b[0m\u001b[0;32mTrue\u001b[0m\u001b[0;34m)\u001b[0m\u001b[0;34m\u001b[0m\u001b[0m\n\u001b[1;32m   2102\u001b[0m \u001b[0;34m\u001b[0m\u001b[0m\n",
      "\u001b[0;32m/anaconda/lib/python3.6/site-packages/pandas/core/indexing.py\u001b[0m in \u001b[0;36m_convert_to_indexer\u001b[0;34m(self, obj, axis, is_setter)\u001b[0m\n\u001b[1;32m   1229\u001b[0m                 \u001b[0mmask\u001b[0m \u001b[0;34m=\u001b[0m \u001b[0mcheck\u001b[0m \u001b[0;34m==\u001b[0m \u001b[0;34m-\u001b[0m\u001b[0;36m1\u001b[0m\u001b[0;34m\u001b[0m\u001b[0m\n\u001b[1;32m   1230\u001b[0m                 \u001b[0;32mif\u001b[0m \u001b[0mmask\u001b[0m\u001b[0;34m.\u001b[0m\u001b[0many\u001b[0m\u001b[0;34m(\u001b[0m\u001b[0;34m)\u001b[0m\u001b[0;34m:\u001b[0m\u001b[0;34m\u001b[0m\u001b[0m\n\u001b[0;32m-> 1231\u001b[0;31m                     \u001b[0;32mraise\u001b[0m \u001b[0mKeyError\u001b[0m\u001b[0;34m(\u001b[0m\u001b[0;34m'%s not in index'\u001b[0m \u001b[0;34m%\u001b[0m \u001b[0mobjarr\u001b[0m\u001b[0;34m[\u001b[0m\u001b[0mmask\u001b[0m\u001b[0;34m]\u001b[0m\u001b[0;34m)\u001b[0m\u001b[0;34m\u001b[0m\u001b[0m\n\u001b[0m\u001b[1;32m   1232\u001b[0m \u001b[0;34m\u001b[0m\u001b[0m\n\u001b[1;32m   1233\u001b[0m                 \u001b[0;32mreturn\u001b[0m \u001b[0m_values_from_object\u001b[0m\u001b[0;34m(\u001b[0m\u001b[0mindexer\u001b[0m\u001b[0;34m)\u001b[0m\u001b[0;34m\u001b[0m\u001b[0m\n",
      "\u001b[0;31mKeyError\u001b[0m: \"['Permit Number'] not in index\""
     ]
    }
   ],
   "source": [
    "# ncf = nc[nc['Street Name'] == 'Folsom']\n",
    "# ncn = ncf#ncf[ncf['Street Number'] == 201]\n",
    "# print(ncn[['Permit Number', 'Proposed Units', 'Street Number', 'Estimated Cost', 'Proposed Use', 'Status', 'Description']])\n",
    "cols = ['Permit Number', 'Proposed Units', 'Street Name', 'Street Number', 'Estimated Cost', 'Proposed Use', 'Status', 'Description']\n",
    "ncf = nc_valid[nc_valid['Permit Creation Date'] >= '01/01/2007'].sort_values('Proposed Units', ascending=False)\n",
    "\n",
    "ncf[cols].head(30)\n",
    "\n"
   ]
  },
  {
   "cell_type": "code",
   "execution_count": 11,
   "metadata": {},
   "outputs": [
    {
     "name": "stdout",
     "output_type": "stream",
     "text": [
      "Permit Type                                                                               1\n",
      "Permit Type Definition                                                     new construction\n",
      "Permit Creation Date                                                    2012-09-05 00:00:00\n",
      "Block                                                                                  0857\n",
      "Lot                                                                                     001\n",
      "Street Number                                                                           218\n",
      "Street Number Suffix                                                                    NaN\n",
      "Street Name                                                                        Buchanan\n",
      "Street Suffix                                                                            St\n",
      "Unit                                                                                    NaN\n",
      "Unit Suffix                                                                             NaN\n",
      "Description                               bldg 2 - erect 6 story  2 basement  191 dwelli...\n",
      "Status                                                                               issued\n",
      "Status Date                                                                      08/02/2013\n",
      "Structural Notification                                                               False\n",
      "Number of Existing Stories                                                              NaN\n",
      "Number of Proposed Stories                                                                6\n",
      "Voluntary Soft-Story Retrofit                                                         False\n",
      "Fire Only Permit                                                                      False\n",
      "Permit Expiration Date                                                           07/02/2019\n",
      "Estimated Cost                                                                     2.27e+07\n",
      "Revised Cost                                                                       2.27e+07\n",
      "Existing Use                                                                            NaN\n",
      "Existing Units                                                                          NaN\n",
      "Proposed Use                                                                     apartments\n",
      "Proposed Units                                                                          191\n",
      "Plansets                                                                                  2\n",
      "TIDF Compliance                                                                       False\n",
      "Use Codes                                                                                24\n",
      "Use Code Description                                                             apartments\n",
      "Existing Construction Type                                                              NaN\n",
      "Existing Construction Type Description                                                  NaN\n",
      "Proposed Construction Type                                                                1\n",
      "Proposed Construction Type Description                                        constr type 1\n",
      "Supervisor District                                                                       8\n",
      "Neighborhoods - Analysis Boundaries                                            Hayes Valley\n",
      "Zipcode                                                                               94102\n",
      "Location                                              (37.7723498557013, -122.426278644235)\n",
      "Name: 201209059006, dtype: object\n"
     ]
    }
   ],
   "source": [
    "print(permits.loc['201209059006'])"
   ]
  },
  {
   "cell_type": "code",
   "execution_count": null,
   "metadata": {
    "collapsed": true
   },
   "outputs": [],
   "source": []
  }
 ],
 "metadata": {
  "kernelspec": {
   "display_name": "Python 3",
   "language": "python",
   "name": "python3"
  },
  "language_info": {
   "codemirror_mode": {
    "name": "ipython",
    "version": 3
   },
   "file_extension": ".py",
   "mimetype": "text/x-python",
   "name": "python",
   "nbconvert_exporter": "python",
   "pygments_lexer": "ipython3",
   "version": "3.6.1"
  }
 },
 "nbformat": 4,
 "nbformat_minor": 2
}
