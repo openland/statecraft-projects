{
 "cells": [
  {
   "cell_type": "code",
   "execution_count": 37,
   "metadata": {
    "collapsed": true
   },
   "outputs": [],
   "source": [
    "%matplotlib inline\n",
    "\n",
    "import pandas as pd\n",
    "import numpy as np\n",
    "import matplotlib.pyplot as plt\n",
    "from IPython.display import display\n",
    "pd.set_option('display.max_columns', 50)"
   ]
  },
  {
   "cell_type": "code",
   "execution_count": 55,
   "metadata": {
    "collapsed": false
   },
   "outputs": [
    {
     "data": {
      "text/html": [
       "<div>\n",
       "<table border=\"1\" class=\"dataframe\">\n",
       "  <thead>\n",
       "    <tr style=\"text-align: right;\">\n",
       "      <th></th>\n",
       "      <th>PERMIT_STATUS_DATE</th>\n",
       "      <th>PERMIT_STATUS</th>\n",
       "      <th>COST</th>\n",
       "      <th>PERMIT_TYPE</th>\n",
       "      <th>UNITS_BEFORE_</th>\n",
       "      <th>UNITS_</th>\n",
       "      <th>NAMEADDR_</th>\n",
       "      <th>NET_UNITS_</th>\n",
       "    </tr>\n",
       "    <tr>\n",
       "      <th>PERMIT_ID</th>\n",
       "      <th></th>\n",
       "      <th></th>\n",
       "      <th></th>\n",
       "      <th></th>\n",
       "      <th></th>\n",
       "      <th></th>\n",
       "      <th></th>\n",
       "      <th></th>\n",
       "    </tr>\n",
       "  </thead>\n",
       "  <tbody>\n",
       "    <tr>\n",
       "      <th>N9521514</th>\n",
       "      <td>04/29/1996</td>\n",
       "      <td>complete</td>\n",
       "      <td>NaN</td>\n",
       "      <td>otc alterations permit</td>\n",
       "      <td>1.0</td>\n",
       "      <td>1.0</td>\n",
       "      <td>Burrows St 1633</td>\n",
       "      <td>0.0</td>\n",
       "    </tr>\n",
       "    <tr>\n",
       "      <th>N9115124</th>\n",
       "      <td>03/30/1992</td>\n",
       "      <td>expired</td>\n",
       "      <td>NaN</td>\n",
       "      <td>otc alterations permit</td>\n",
       "      <td>3.0</td>\n",
       "      <td>3.0</td>\n",
       "      <td>Sacramento St 1561</td>\n",
       "      <td>0.0</td>\n",
       "    </tr>\n",
       "    <tr>\n",
       "      <th>N9718729</th>\n",
       "      <td>11/26/1997</td>\n",
       "      <td>complete</td>\n",
       "      <td>NaN</td>\n",
       "      <td>otc alterations permit</td>\n",
       "      <td>1.0</td>\n",
       "      <td>1.0</td>\n",
       "      <td>Thrift St 290</td>\n",
       "      <td>0.0</td>\n",
       "    </tr>\n",
       "    <tr>\n",
       "      <th>N8209071</th>\n",
       "      <td>11/04/1982</td>\n",
       "      <td>cancelled</td>\n",
       "      <td>NaN</td>\n",
       "      <td>additions alterations or repairs</td>\n",
       "      <td>0.0</td>\n",
       "      <td>1.0</td>\n",
       "      <td>Page St 584</td>\n",
       "      <td>1.0</td>\n",
       "    </tr>\n",
       "    <tr>\n",
       "      <th>NM480067</th>\n",
       "      <td>04/15/2014</td>\n",
       "      <td>issued</td>\n",
       "      <td>267.24</td>\n",
       "      <td>otc alterations permit</td>\n",
       "      <td>0.0</td>\n",
       "      <td>0.0</td>\n",
       "      <td>Stevenson St 855</td>\n",
       "      <td>0.0</td>\n",
       "    </tr>\n",
       "  </tbody>\n",
       "</table>\n",
       "</div>"
      ],
      "text/plain": [
       "          PERMIT_STATUS_DATE PERMIT_STATUS    COST  \\\n",
       "PERMIT_ID                                            \n",
       "N9521514          04/29/1996      complete     NaN   \n",
       "N9115124          03/30/1992       expired     NaN   \n",
       "N9718729          11/26/1997      complete     NaN   \n",
       "N8209071          11/04/1982     cancelled     NaN   \n",
       "NM480067          04/15/2014        issued  267.24   \n",
       "\n",
       "                                PERMIT_TYPE  UNITS_BEFORE_  UNITS_  \\\n",
       "PERMIT_ID                                                            \n",
       "N9521514             otc alterations permit            1.0     1.0   \n",
       "N9115124             otc alterations permit            3.0     3.0   \n",
       "N9718729             otc alterations permit            1.0     1.0   \n",
       "N8209071   additions alterations or repairs            0.0     1.0   \n",
       "NM480067             otc alterations permit            0.0     0.0   \n",
       "\n",
       "                    NAMEADDR_  NET_UNITS_  \n",
       "PERMIT_ID                                  \n",
       "N9521514      Burrows St 1633         0.0  \n",
       "N9115124   Sacramento St 1561         0.0  \n",
       "N9718729        Thrift St 290         0.0  \n",
       "N8209071          Page St 584         1.0  \n",
       "NM480067     Stevenson St 855         0.0  "
      ]
     },
     "metadata": {},
     "output_type": "display_data"
    }
   ],
   "source": [
    "converters = {'Permit Number': lambda x: 'N'+x.replace(',','')}\n",
    "X = pd.read_csv(\"data_complete/Building_Permits.csv\", sep=',', infer_datetime_format=True, converters=converters, parse_dates=['Permit Creation Date', 'Status Date'])\n",
    "# X = X[(X['Permit Type'] == 1) | (X['Permit Type'] == 2)]\n",
    "#display(X.head())\n",
    "X['Street Number'] = X['Street Number'].fillna(0).astype('int64').apply(str)\n",
    "X['NAMEADDR_'] = X['Street Name'] + ' ' + X['Street Suffix'] + ' ' + X['Street Number']\n",
    "X = X[['Permit Number', 'Status Date', 'Status', 'Revised Cost', 'Permit Type Definition', \"Existing Units\", \"Proposed Units\", \"NAMEADDR_\"]]\n",
    "X = X.rename(columns = {\"Permit Number\": \"PERMIT_ID\", \n",
    "                        \"Status Date\": \"PERMIT_STATUS_DATE\", \n",
    "                        'Revised Cost': \"COST\",  \n",
    "                        'Status': 'PERMIT_STATUS', \n",
    "                        \"Permit Type Definition\": \"PERMIT_TYPE\", \n",
    "                        \"Existing Units\": \"UNITS_BEFORE_\", \n",
    "                        \"Proposed Units\": \"UNITS_\"})\n",
    "X['UNITS_'] = X['UNITS_'].fillna(0)\n",
    "X['UNITS_BEFORE_'] = X['UNITS_BEFORE_'].fillna(0)\n",
    "X[\"NET_UNITS_\"] = X[\"UNITS_\"] - X[\"UNITS_BEFORE_\"]\n",
    "X = X.set_index('PERMIT_ID').drop_duplicates()\n",
    "#X.sort_values(['UNITS_'], ascending=False)\n",
    "display(X.head())"
   ]
  },
  {
   "cell_type": "code",
   "execution_count": 56,
   "metadata": {
    "collapsed": false
   },
   "outputs": [
    {
     "data": {
      "text/html": [
       "<div>\n",
       "<table border=\"1\" class=\"dataframe\">\n",
       "  <thead>\n",
       "    <tr style=\"text-align: right;\">\n",
       "      <th></th>\n",
       "      <th>PERMIT_STATUS_DATE</th>\n",
       "      <th>PERMIT_STATUS</th>\n",
       "      <th>COST</th>\n",
       "      <th>PERMIT_TYPE</th>\n",
       "      <th>UNITS_BEFORE_</th>\n",
       "      <th>UNITS_</th>\n",
       "      <th>NAMEADDR_</th>\n",
       "      <th>NET_UNITS_</th>\n",
       "    </tr>\n",
       "    <tr>\n",
       "      <th>PERMIT_ID</th>\n",
       "      <th></th>\n",
       "      <th></th>\n",
       "      <th></th>\n",
       "      <th></th>\n",
       "      <th></th>\n",
       "      <th></th>\n",
       "      <th></th>\n",
       "      <th></th>\n",
       "    </tr>\n",
       "  </thead>\n",
       "  <tbody>\n",
       "    <tr>\n",
       "      <th>N9521514</th>\n",
       "      <td>04/29/1996</td>\n",
       "      <td>complete</td>\n",
       "      <td>NaN</td>\n",
       "      <td>otc alterations permit</td>\n",
       "      <td>1.0</td>\n",
       "      <td>1.0</td>\n",
       "      <td>Burrows St 1633</td>\n",
       "      <td>0.0</td>\n",
       "    </tr>\n",
       "    <tr>\n",
       "      <th>N9115124</th>\n",
       "      <td>03/30/1992</td>\n",
       "      <td>expired</td>\n",
       "      <td>NaN</td>\n",
       "      <td>otc alterations permit</td>\n",
       "      <td>3.0</td>\n",
       "      <td>3.0</td>\n",
       "      <td>Sacramento St 1561</td>\n",
       "      <td>0.0</td>\n",
       "    </tr>\n",
       "    <tr>\n",
       "      <th>N9718729</th>\n",
       "      <td>11/26/1997</td>\n",
       "      <td>complete</td>\n",
       "      <td>NaN</td>\n",
       "      <td>otc alterations permit</td>\n",
       "      <td>1.0</td>\n",
       "      <td>1.0</td>\n",
       "      <td>Thrift St 290</td>\n",
       "      <td>0.0</td>\n",
       "    </tr>\n",
       "    <tr>\n",
       "      <th>N8209071</th>\n",
       "      <td>11/04/1982</td>\n",
       "      <td>cancelled</td>\n",
       "      <td>NaN</td>\n",
       "      <td>additions alterations or repairs</td>\n",
       "      <td>0.0</td>\n",
       "      <td>1.0</td>\n",
       "      <td>Page St 584</td>\n",
       "      <td>1.0</td>\n",
       "    </tr>\n",
       "    <tr>\n",
       "      <th>NM480067</th>\n",
       "      <td>04/15/2014</td>\n",
       "      <td>issued</td>\n",
       "      <td>267.24</td>\n",
       "      <td>otc alterations permit</td>\n",
       "      <td>0.0</td>\n",
       "      <td>0.0</td>\n",
       "      <td>Stevenson St 855</td>\n",
       "      <td>0.0</td>\n",
       "    </tr>\n",
       "  </tbody>\n",
       "</table>\n",
       "</div>"
      ],
      "text/plain": [
       "          PERMIT_STATUS_DATE PERMIT_STATUS    COST  \\\n",
       "PERMIT_ID                                            \n",
       "N9521514          04/29/1996      complete     NaN   \n",
       "N9115124          03/30/1992       expired     NaN   \n",
       "N9718729          11/26/1997      complete     NaN   \n",
       "N8209071          11/04/1982     cancelled     NaN   \n",
       "NM480067          04/15/2014        issued  267.24   \n",
       "\n",
       "                                PERMIT_TYPE  UNITS_BEFORE_  UNITS_  \\\n",
       "PERMIT_ID                                                            \n",
       "N9521514             otc alterations permit            1.0     1.0   \n",
       "N9115124             otc alterations permit            3.0     3.0   \n",
       "N9718729             otc alterations permit            1.0     1.0   \n",
       "N8209071   additions alterations or repairs            0.0     1.0   \n",
       "NM480067             otc alterations permit            0.0     0.0   \n",
       "\n",
       "                    NAMEADDR_  NET_UNITS_  \n",
       "PERMIT_ID                                  \n",
       "N9521514      Burrows St 1633         0.0  \n",
       "N9115124   Sacramento St 1561         0.0  \n",
       "N9718729        Thrift St 290         0.0  \n",
       "N8209071          Page St 584         1.0  \n",
       "NM480067     Stevenson St 855         0.0  "
      ]
     },
     "execution_count": 56,
     "metadata": {},
     "output_type": "execute_result"
    }
   ],
   "source": [
    "X.head()"
   ]
  },
  {
   "cell_type": "code",
   "execution_count": 57,
   "metadata": {
    "collapsed": true
   },
   "outputs": [],
   "source": [
    "X.to_csv(\"data_complete/Building_Permits_Filtered.csv\")"
   ]
  },
  {
   "cell_type": "code",
   "execution_count": 12,
   "metadata": {
    "collapsed": false
   },
   "outputs": [
    {
     "data": {
      "text/plain": [
       "PERMIT_DATE           731193\n",
       "PERMIT_STATUS_DATE    731193\n",
       "PERMIT_STATUS         731188\n",
       "COST                  459725\n",
       "dtype: int64"
      ]
     },
     "execution_count": 12,
     "metadata": {},
     "output_type": "execute_result"
    }
   ],
   "source": [
    "X.count()"
   ]
  },
  {
   "cell_type": "code",
   "execution_count": null,
   "metadata": {
    "collapsed": true
   },
   "outputs": [],
   "source": []
  }
 ],
 "metadata": {
  "kernelspec": {
   "display_name": "Python 3",
   "language": "python",
   "name": "python3"
  },
  "language_info": {
   "codemirror_mode": {
    "name": "ipython",
    "version": 3
   },
   "file_extension": ".py",
   "mimetype": "text/x-python",
   "name": "python",
   "nbconvert_exporter": "python",
   "pygments_lexer": "ipython3",
   "version": "3.5.2"
  }
 },
 "nbformat": 4,
 "nbformat_minor": 2
}
