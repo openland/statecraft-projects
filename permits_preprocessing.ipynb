{
 "cells": [
  {
   "cell_type": "code",
   "execution_count": 1,
   "metadata": {
    "collapsed": true
   },
   "outputs": [],
   "source": [
    "%matplotlib inline\n",
    "\n",
    "import pandas as pd\n",
    "import numpy as np\n",
    "import matplotlib.pyplot as plt\n",
    "from IPython.display import display"
   ]
  },
  {
   "cell_type": "code",
   "execution_count": 2,
   "metadata": {
    "collapsed": true
   },
   "outputs": [],
   "source": [
    "converters = {'Permit Number': lambda x: 'N'+x.replace(',','')}\n",
    "X = pd.read_csv(\"data_complete/Building_Permits.csv\", sep=',', infer_datetime_format=True, converters=converters, parse_dates=['Permit Creation Date', 'Status Date'])\n",
    "# X = X[(X['Permit Type'] == 1) | (X['Permit Type'] == 2)]\n",
    "X = X[['Permit Number', 'Permit Creation Date', 'Status Date', 'Status']]\n",
    "X = X.rename(columns = {\"Permit Number\": \"PERMIT_ID\", \"Permit Creation Date\": \"PERMIT_DATE\", \"Status Date\": \"PERMIT_STATUS_DATE\", 'Status': 'PERMIT_STATUS'})\n",
    "# X['PERMIT_DATE'] = pd.to_datetime(X['PERMIT_DATE'], errors='coerce')\n",
    "X = X.set_index('PERMIT_ID').drop_duplicates()"
   ]
  },
  {
   "cell_type": "code",
   "execution_count": 3,
   "metadata": {
    "collapsed": false
   },
   "outputs": [
    {
     "data": {
      "text/html": [
       "<div>\n",
       "<table border=\"1\" class=\"dataframe\">\n",
       "  <thead>\n",
       "    <tr style=\"text-align: right;\">\n",
       "      <th></th>\n",
       "      <th>PERMIT_DATE</th>\n",
       "      <th>PERMIT_STATUS_DATE</th>\n",
       "      <th>PERMIT_STATUS</th>\n",
       "    </tr>\n",
       "    <tr>\n",
       "      <th>PERMIT_ID</th>\n",
       "      <th></th>\n",
       "      <th></th>\n",
       "      <th></th>\n",
       "    </tr>\n",
       "  </thead>\n",
       "  <tbody>\n",
       "    <tr>\n",
       "      <th>N9521514</th>\n",
       "      <td>1995-12-26</td>\n",
       "      <td>04/29/1996</td>\n",
       "      <td>complete</td>\n",
       "    </tr>\n",
       "    <tr>\n",
       "      <th>N9115124</th>\n",
       "      <td>1991-08-21</td>\n",
       "      <td>03/30/1992</td>\n",
       "      <td>expired</td>\n",
       "    </tr>\n",
       "    <tr>\n",
       "      <th>N9718729</th>\n",
       "      <td>1997-09-23</td>\n",
       "      <td>11/26/1997</td>\n",
       "      <td>complete</td>\n",
       "    </tr>\n",
       "    <tr>\n",
       "      <th>N8209071</th>\n",
       "      <td>1982-11-04</td>\n",
       "      <td>11/04/1982</td>\n",
       "      <td>cancelled</td>\n",
       "    </tr>\n",
       "    <tr>\n",
       "      <th>NM480067</th>\n",
       "      <td>2014-04-15</td>\n",
       "      <td>04/15/2014</td>\n",
       "      <td>issued</td>\n",
       "    </tr>\n",
       "  </tbody>\n",
       "</table>\n",
       "</div>"
      ],
      "text/plain": [
       "          PERMIT_DATE PERMIT_STATUS_DATE PERMIT_STATUS\n",
       "PERMIT_ID                                             \n",
       "N9521514   1995-12-26         04/29/1996      complete\n",
       "N9115124   1991-08-21         03/30/1992       expired\n",
       "N9718729   1997-09-23         11/26/1997      complete\n",
       "N8209071   1982-11-04         11/04/1982     cancelled\n",
       "NM480067   2014-04-15         04/15/2014        issued"
      ]
     },
     "execution_count": 3,
     "metadata": {},
     "output_type": "execute_result"
    }
   ],
   "source": [
    "X.head()"
   ]
  },
  {
   "cell_type": "code",
   "execution_count": 4,
   "metadata": {
    "collapsed": true
   },
   "outputs": [],
   "source": [
    "X.to_csv(\"data_complete/Building_Permits_Filtered.csv\")"
   ]
  },
  {
   "cell_type": "code",
   "execution_count": null,
   "metadata": {
    "collapsed": true
   },
   "outputs": [],
   "source": []
  }
 ],
 "metadata": {
  "kernelspec": {
   "display_name": "Python 3",
   "language": "python",
   "name": "python3"
  },
  "language_info": {
   "codemirror_mode": {
    "name": "ipython",
    "version": 3
   },
   "file_extension": ".py",
   "mimetype": "text/x-python",
   "name": "python",
   "nbconvert_exporter": "python",
   "pygments_lexer": "ipython3",
   "version": "3.5.2"
  }
 },
 "nbformat": 4,
 "nbformat_minor": 2
}
