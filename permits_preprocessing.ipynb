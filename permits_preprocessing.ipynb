{
 "cells": [
  {
   "cell_type": "code",
   "execution_count": 1,
   "metadata": {
    "collapsed": true
   },
   "outputs": [],
   "source": [
    "%matplotlib inline\n",
    "\n",
    "import pandas as pd\n",
    "import numpy as np\n",
    "import matplotlib.pyplot as plt\n",
    "from IPython.display import display"
   ]
  },
  {
   "cell_type": "code",
   "execution_count": 2,
   "metadata": {},
   "outputs": [],
   "source": [
    "converters = {'Permit Number': lambda x: 'N'+x.replace(',','')}\n",
    "X = pd.read_csv(\"data_complete/Building_Permits.csv\", sep=',', infer_datetime_format=True, converters=converters, parse_dates=['Permit Creation Date', 'Status Date'])\n",
    "# X = X[(X['Permit Type'] == 1) | (X['Permit Type'] == 2)]\n",
    "X = X[['Permit Number', 'Permit Creation Date', 'Status Date', 'Status']]\n",
    "X = X.rename(columns = {\"Permit Number\": \"PERMIT_ID\", \"Permit Creation Date\": \"PERMIT_DATE\", \"Status Date\": \"PERMIT_STATUS_DATE\", 'Status': 'PERMIT_STATUS'})\n",
    "# X['PERMIT_DATE'] = pd.to_datetime(X['PERMIT_DATE'], errors='coerce')\n",
    "X = X.set_index('PERMIT_ID')"
   ]
  },
  {
   "cell_type": "code",
   "execution_count": 3,
   "metadata": {},
   "outputs": [
    {
     "data": {
      "text/html": [
       "<div>\n",
       "<style>\n",
       "    .dataframe thead tr:only-child th {\n",
       "        text-align: right;\n",
       "    }\n",
       "\n",
       "    .dataframe thead th {\n",
       "        text-align: left;\n",
       "    }\n",
       "\n",
       "    .dataframe tbody tr th {\n",
       "        vertical-align: top;\n",
       "    }\n",
       "</style>\n",
       "<table border=\"1\" class=\"dataframe\">\n",
       "  <thead>\n",
       "    <tr style=\"text-align: right;\">\n",
       "      <th></th>\n",
       "      <th>PERMIT_DATE</th>\n",
       "      <th>PERMIT_STATUS_DATE</th>\n",
       "      <th>PERMIT_STATUS</th>\n",
       "    </tr>\n",
       "    <tr>\n",
       "      <th>PERMIT_ID</th>\n",
       "      <th></th>\n",
       "      <th></th>\n",
       "      <th></th>\n",
       "    </tr>\n",
       "  </thead>\n",
       "  <tbody>\n",
       "    <tr>\n",
       "      <th>N0304329</th>\n",
       "      <td>1964-08-27</td>\n",
       "      <td>05/16/1986</td>\n",
       "      <td>cancelled</td>\n",
       "    </tr>\n",
       "    <tr>\n",
       "      <th>N0332010</th>\n",
       "      <td>1966-07-08</td>\n",
       "      <td>05/14/1986</td>\n",
       "      <td>cancelled</td>\n",
       "    </tr>\n",
       "    <tr>\n",
       "      <th>N0337505</th>\n",
       "      <td>1966-12-02</td>\n",
       "      <td>05/14/1986</td>\n",
       "      <td>cancelled</td>\n",
       "    </tr>\n",
       "    <tr>\n",
       "      <th>N0348539</th>\n",
       "      <td>1970-09-03</td>\n",
       "      <td>05/14/1986</td>\n",
       "      <td>disapproved</td>\n",
       "    </tr>\n",
       "    <tr>\n",
       "      <th>N0357638</th>\n",
       "      <td>1968-05-29</td>\n",
       "      <td>03/04/1986</td>\n",
       "      <td>expired</td>\n",
       "    </tr>\n",
       "  </tbody>\n",
       "</table>\n",
       "</div>"
      ],
      "text/plain": [
       "          PERMIT_DATE PERMIT_STATUS_DATE PERMIT_STATUS\n",
       "PERMIT_ID                                             \n",
       "N0304329   1964-08-27         05/16/1986     cancelled\n",
       "N0332010   1966-07-08         05/14/1986     cancelled\n",
       "N0337505   1966-12-02         05/14/1986     cancelled\n",
       "N0348539   1970-09-03         05/14/1986   disapproved\n",
       "N0357638   1968-05-29         03/04/1986       expired"
      ]
     },
     "execution_count": 3,
     "metadata": {},
     "output_type": "execute_result"
    }
   ],
   "source": [
    "X.head()"
   ]
  },
  {
   "cell_type": "code",
   "execution_count": 4,
   "metadata": {
    "collapsed": true
   },
   "outputs": [],
   "source": [
    "X.to_csv(\"data_complete/Building_Permits_Filtered.csv\")"
   ]
  },
  {
   "cell_type": "code",
   "execution_count": null,
   "metadata": {
    "collapsed": true
   },
   "outputs": [],
   "source": []
  }
 ],
 "metadata": {
  "kernelspec": {
   "display_name": "Python 3",
   "language": "python",
   "name": "python3"
  },
  "language_info": {
   "codemirror_mode": {
    "name": "ipython",
    "version": 3
   },
   "file_extension": ".py",
   "mimetype": "text/x-python",
   "name": "python",
   "nbconvert_exporter": "python",
   "pygments_lexer": "ipython3",
   "version": "3.6.1"
  }
 },
 "nbformat": 4,
 "nbformat_minor": 2
}
